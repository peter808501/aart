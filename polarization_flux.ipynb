{
 "cells": [
  {
   "cell_type": "code",
   "execution_count": 1,
   "id": "4a1c1597",
   "metadata": {},
   "outputs": [
    {
     "name": "stdout",
     "output_type": "stream",
     "text": [
      "\n",
      "Thanks for using AART\n",
      "Copyright (C) 2022, A. Cardenas-Avendano, H. Zhu & A. Lupsasca\n",
      "\n"
     ]
    }
   ],
   "source": [
    "\"\"\"main discoveries after reading Zach's paper:\n",
    "1. His orbiting hotspot model is a point source, not a Gaussian. We can approximate this by setting the xwidth and ywidth\n",
    "of the Gaussian close to 0. \n",
    "2. His magnetic field configuration may be in terms of Cartesian coordinates, not spherical coordinates. \n",
    "\n",
    "Questions: \n",
    "1. What convention for spherical coordinates do we use in aart?\n",
    "2. Does the magnetic field functions take radians or degrees as inputs? \n",
    "\n",
    "\"\"\"\n",
    "\n",
    "\n",
    "# import all functions from the Adaptive Analytical Ray Tracing code library\n",
    "from aart_func import * \n",
    "from params import * # The file params.py contains all the relevant parameters for the simulations\n",
    "from tqdm import tqdm\n",
    "#import importlib"
   ]
  },
  {
   "cell_type": "code",
   "execution_count": null,
   "id": "a1d41959-ed4f-4c16-ac12-c7baac39d7d3",
   "metadata": {},
   "outputs": [],
   "source": []
  },
  {
   "cell_type": "code",
   "execution_count": 2,
   "id": "de73aa1d-b25c-4dec-a59e-16236c3e7715",
   "metadata": {},
   "outputs": [
    {
     "name": "stdout",
     "output_type": "stream",
     "text": [
      "70\n",
      "0.02\n"
     ]
    }
   ],
   "source": [
    "print(i_case)\n",
    "print(spin_case)"
   ]
  },
  {
   "cell_type": "code",
   "execution_count": 3,
   "id": "c7372bae",
   "metadata": {},
   "outputs": [
    {
     "name": "stdout",
     "output_type": "stream",
     "text": [
      "\n",
      "Thanks for using AART\n",
      "Copyright (C) 2022, A. Cardenas-Avendano, H. Zhu & A. Lupsasca\n",
      "\n",
      "Computing the lensing bands\n",
      "Number of points in the n=0 grid  9000000\n",
      "Number of points in the n=1 grid  900\n",
      "Number of points in the n=2 grid  484\n",
      "File  ./Results/LensingBands_a_0.02_i_70.h5  created.\n"
     ]
    }
   ],
   "source": [
    "# run lensingbands.py\n",
    "!python lensingbands.py"
   ]
  },
  {
   "cell_type": "code",
   "execution_count": 4,
   "id": "144685da",
   "metadata": {},
   "outputs": [
    {
     "name": "stdout",
     "output_type": "stream",
     "text": [
      "Reading file:  ./Results/LensingBands_a_0.02_i_70.h5\n"
     ]
    }
   ],
   "source": [
    "# read in the results of lensingbands.py\n",
    "fnbands=\"./Results/LensingBands_a_%s_i_%s.h5\"%(spin_case,i_case)\n",
    "\n",
    "print(\"Reading file: \",fnbands)\n",
    "\n",
    "h5f = h5py.File(fnbands,'r')\n",
    "\n",
    "#Points for the boundary of the BH shadow\n",
    "alpha_critc=h5f['alpha'][:]\n",
    "beta_critc=h5f['beta'][:]\n",
    "\n",
    "#The concave hulls for the lensing bands\n",
    "hull_0i=h5f['hull_0i'][:]\n",
    "hull_0e=h5f['hull_0e'][:]\n",
    "hull_1i=h5f['hull_1i'][:]\n",
    "hull_1e=h5f['hull_1e'][:]\n",
    "hull_2i=h5f['hull_2i'][:]\n",
    "hull_2e=h5f['hull_2e'][:]\n",
    "\n",
    "#The grid points for each lensing band\n",
    "supergrid0=h5f['grid0'][:]\n",
    "N0=int(h5f[\"N0\"][0])\n",
    "mask0=h5f['mask0'][:]\n",
    "lim0=int(h5f[\"lim0\"][0])\n",
    "supergrid1=h5f['grid1'][:]\n",
    "N1=int(h5f[\"N1\"][0])\n",
    "mask1=h5f['mask1'][:]\n",
    "lim1=int(h5f[\"lim1\"][0])\n",
    "supergrid2=h5f['grid2'][:]\n",
    "N2=int(h5f[\"N2\"][0])\n",
    "mask2=h5f['mask2'][:]\n",
    "lim2=int(h5f[\"lim2\"][0])\n",
    "\n",
    "\n",
    "\n",
    "\n",
    "h5f.close()\n"
   ]
  },
  {
   "cell_type": "code",
   "execution_count": 5,
   "id": "55eff169",
   "metadata": {},
   "outputs": [
    {
     "name": "stdout",
     "output_type": "stream",
     "text": [
      "\n",
      "Thanks for using AART\n",
      "Copyright (C) 2022, A. Cardenas-Avendano, H. Zhu & A. Lupsasca\n",
      "\n",
      "Ray-tracing\n",
      "Reading file:  ./Results/LensingBands_a_0.02_i_70.h5\n",
      "Analytical ray-tracing of the n=0 band points\n",
      "Analytical ray-tracing of the n=1 band points\n",
      "Analytical ray-tracing of the n=2 band points\n",
      "File  ./Results/Rays_a_0.02_i_70.h5  created.\n",
      "\n",
      "A total of 9001384 photons were ray-traced\n"
     ]
    }
   ],
   "source": [
    "# run raytracing.py\n",
    "!python raytracing.py"
   ]
  },
  {
   "cell_type": "code",
   "execution_count": 6,
   "id": "ae800d0d",
   "metadata": {},
   "outputs": [
    {
     "name": "stdout",
     "output_type": "stream",
     "text": [
      "Reading file:  ./Results/Rays_a_0.02_i_70.h5\n"
     ]
    }
   ],
   "source": [
    "# read in the results of raytracing.py\n",
    "fnrays=\"./Results/Rays_a_%s_i_%s.h5\"%(spin_case,i_case)\n",
    "\n",
    "print(\"Reading file: \",fnrays)\n",
    "\n",
    "h5f = h5py.File(fnrays,'r')\n",
    "\n",
    "rs0=h5f['rs0'][:]\n",
    "sign0=h5f['sign0'][:]\n",
    "t0=h5f['t0'][:]\n",
    "phi0=h5f['phi0'][:]\n",
    "\n",
    "rs1=h5f['rs1'][:]\n",
    "sign1=h5f['sign1'][:]\n",
    "t1=h5f['t1'][:]\n",
    "phi1=h5f['phi1'][:]\n",
    "\n",
    "rs2=h5f['rs2'][:]\n",
    "sign2=h5f['sign2'][:]\n",
    "t2=h5f['t2'][:]\n",
    "phi2=h5f['phi2'][:]\n",
    "\n",
    "\n",
    "\n",
    "h5f.close()"
   ]
  },
  {
   "cell_type": "code",
   "execution_count": 7,
   "id": "05b6e6f4",
   "metadata": {},
   "outputs": [],
   "source": [
    "r_initial = 6\n",
    "angle_initial = 1/6 * np.pi\n",
    "\"\"\"What units is omega in? geometrized units of L**-1? pi is not here\"\"\"\n",
    "omega = 1/(r_initial**1.5 + spin_case)\n",
    "\n",
    "\n",
    "def intensity_transform(grid, mask, redshift_sign, rsource, thetasource, timesource, t):\n",
    "    \"\"\" Here is a brief explanation of the parameters for this function: \n",
    "    \n",
    "        grid: grid that is returned by lensingbands.py (contains the alpha and beta coordinates)\n",
    "        mask: mask that is returned by lensing bands.py (? what exactly is mask, and why is it always used as an index?) it is a boolean array\n",
    "        , but why can it be used to index both alpha and beta (which is on the observer plane), and r, theta, t (which is on the source plane)?\n",
    "        possibly because mask specifies whether a point, in both observer and source plane, is within a particular lensing band. \n",
    "        redshift_sign: ??? what is the redshift sign and how is it used? \n",
    "        rsource: the r coordinate in the source plane\n",
    "        thetasource: the theta coordinate in the source plane\n",
    "        timesource: the time coordinate in the source plane\n",
    "       \n",
    "    \"\"\"\n",
    "    \n",
    "    # first, we extract the alpha and beta coordinates from the parameter \"grid\". Recall that \"grid\" is calculated by lensingbands.py.\n",
    "    alpha = grid[:,0][mask]\n",
    "    beta = grid[:, 1][mask] \n",
    "    #sidenote on python syntax: [:, 0] means that we select all the rows of the array, as well as the index 0 column\n",
    "    # which means we are effectively selecting all elements in the index 0 column.\n",
    "    # now, if we apply an extra [mask] to that (and mask is an array consisting of booleans), we select elements in the index 0 column\n",
    "    # that fits the condition of true as specified by mask. \n",
    "    \n",
    "    # next, we extract the source r, theta, and t coordinates from the parameters \"rsource\", \"thetasource\", and \"timesource\"\n",
    "    r = rsource[mask]\n",
    "    theta = thetasource[mask]\n",
    "    time = timesource[mask]\n",
    "    \n",
    "     # next, we extract the redshift signs from the parameter \"redshift_sign\"\n",
    "    sign = redshift_sign[mask]\n",
    "    \n",
    "    # next, we calculate the angular momentum and carter constant, which is needed to calculate the observer intensity\n",
    "    angular_momentum, carter_constant = rt.conserved_quantities(alpha, beta, i_case, spin_case)\n",
    "      # side note: i_case is measured from the spin axis of the black hole. (?? is that the only parameter that is needed, say\n",
    "        # what if we had two observers at the same i_case but different thetas?)\n",
    "        \n",
    "    # then, we create an empty array that represents the intensity at the source plane. This array can be customized later. For now we only\n",
    "    # need to know the size.\n",
    "    intensitysource = np.zeros(r.shape[0])\n",
    "    # side note on python syntax: r.shape gives the number of rows in the array r. In the case of r being a one-dimensional array, it simply gives\n",
    "    # the number of elements. \n",
    "    \n",
    "    \n",
    "    # Currently, the source plane is desribed by polar coordinates. In this next step, we translate it into Cartesian coordinates. \n",
    "    x = r * cos(theta)\n",
    "    y = r * sin(theta)\n",
    "    \n",
    "    # time-dependent motion of the centroid of the gaussian\n",
    "    \n",
    "    x0 = r_initial * np.cos (angle_initial + omega * t)\n",
    "    y0 = r_initial * np.sin (angle_initial + omega * t)\n",
    "    \n",
    "    gwdithx=0.05\n",
    "    gwdithy=0.05\n",
    "    \n",
    "    # next, we define a specific intensity profile in the source plane: in this case, a Gaussian centered at (10, 10) with xwidth and ywidth both 5\n",
    "    brightness = np.exp(-(x-x0)**2/gwdithx**2-(y-y0)**2/gwdithy**2)\n",
    "    # the reason we do not need to create a meshgrid here: we are already given all the corresponding (x,y) coordinates that lie within a particular lensing band.\n",
    "    \n",
    "    \n",
    "    # now we coome to the most crucial step: calculating the intensity at the observer plane.There are two scenarios: when the radius is smaller \n",
    "    # than the innermost stable orbit, and when the radius is larger than the innermost stable orbit. \n",
    "    isco = rms(spin_case)\n",
    "    brightness[r < isco] *= obsint.gGas(r[r < isco], spin_case, sign[r < isco], angular_momentum[r < isco], carter_constant[r < isco])\n",
    "    brightness[r >= isco] *= obsint.gDisk(r[r >= isco], spin_case, sign[r >= isco], angular_momentum[r >= isco], carter_constant[r >= isco])\n",
    "    \n",
    "    # naturally, anything that's behind the black hole shadow cannot be seen, so we have to set those brightness to 0.\n",
    "    r_p = 1+np.sqrt(1-spin_case**2)\n",
    "    brightness[r <= r_p] = 0\n",
    "    \n",
    "    I = np.zeros(mask.shape)\n",
    "    I[mask] = brightness\n",
    "    I[mask==0] = np.nan\n",
    "    return(I)"
   ]
  },
  {
   "cell_type": "code",
   "execution_count": 8,
   "id": "4518328e-582c-4565-94b4-d00285bce420",
   "metadata": {},
   "outputs": [
    {
     "name": "stdout",
     "output_type": "stream",
     "text": [
      "70\n",
      "0.02\n",
      "[-2.32653742e-01 -7.31881406e-18  2.86190489e-01  0.00000000e+00]\n"
     ]
    }
   ],
   "source": [
    "# first, we specify the local magnetic field in Cartesian coordinates\n",
    "print(i_case)\n",
    "print(spin_case)\n",
    "\n",
    "b_r = 0\n",
    "b_theta = 0\n",
    "b_phi = 1\n",
    "\n",
    "# then, we feed these values into bt.b_local_to_observer_transform to get the coordinates in the observer frame\n",
    "b_observer_array = bt.b_local_to_observer_transform(b_r, b_theta, b_phi, r_initial)\n",
    "print(b_observer_array)\n"
   ]
  },
  {
   "cell_type": "code",
   "execution_count": 9,
   "id": "ef227ac4",
   "metadata": {},
   "outputs": [
    {
     "name": "stdout",
     "output_type": "stream",
     "text": [
      "\n",
      "Thanks for using AART\n",
      "Copyright (C) 2022, A. Cardenas-Avendano, H. Zhu & A. Lupsasca\n",
      "\n",
      "Polarization\n",
      "Reading file:  ./Results/LensingBands_a_0.02_i_70.h5\n",
      "Reading file:  ./Results/Rays_a_0.02_i_70.h5\n",
      "File  ./Results/Polarization_a_0.02_i_70.h5  created.\n"
     ]
    }
   ],
   "source": [
    "# now, we plug in the values we calculated above into polarization_f.py in aart_func, and then run the python file.\n",
    "# now we run polarization.py, which returns EVPA_x and EVPA_y. From these 2 quantities, EVPA can be found using the formula\n",
    "# on Alejandro and Hengrui's paper page 6 formula 5\n",
    "!python polarization.py"
   ]
  },
  {
   "cell_type": "code",
   "execution_count": 10,
   "id": "aa474195",
   "metadata": {},
   "outputs": [
    {
     "name": "stdout",
     "output_type": "stream",
     "text": [
      "Reading file:  ./Results/Polarization_a_0.02_i_70.h5\n",
      "(3000, 3000)\n",
      "(3000, 3000)\n",
      "(3000, 3000)\n"
     ]
    }
   ],
   "source": [
    "# read in the outputs of polarization.py\n",
    "\n",
    "fnpolarization = \"./Results/Polarization_a_%s_i_%s.h5\"%(spin_case, i_case)\n",
    "\n",
    "print(\"Reading file: \", fnpolarization)\n",
    "\n",
    "h5f = h5py.File(fnpolarization, 'r')\n",
    "\n",
    "penrosewalker = h5f['PK'][:]\n",
    "EVPA_x = h5f['EVPA_x'][:]\n",
    "EVPA_y = h5f['EVPA_y'][:]\n",
    "             \n",
    "\n",
    "h5f.close()\n",
    "\n",
    "print(penrosewalker.shape)\n",
    "print(EVPA_x.shape)\n",
    "print(EVPA_y.shape)\n",
    "\n"
   ]
  },
  {
   "cell_type": "code",
   "execution_count": 14,
   "id": "0ead7690",
   "metadata": {},
   "outputs": [
    {
     "name": "stderr",
     "output_type": "stream",
     "text": [
      "100%|██████████| 150/150 [02:17<00:00,  1.09it/s]"
     ]
    },
    {
     "name": "stdout",
     "output_type": "stream",
     "text": [
      "[-18.51020294 -19.10112091 -19.77118554 -20.52291013 -21.3524165\n",
      " -22.24296331 -23.15315332 -23.99585432 -24.601715   -24.66005352\n",
      " -23.63670037 -20.70469059 -14.83704367  -5.43471611   6.030217\n",
      "  13.66364836   6.28927283 -26.68783176 -72.37378341 -94.71861654\n",
      " -92.33098583 -82.76562209 -73.61279734 -66.21232493 -60.37161482\n",
      " -55.71818735 -51.94949066 -48.84649158 -46.25207897 -44.05164088\n",
      " -42.1597638  -40.51155644 -39.05696737 -37.75694364 -36.58078161\n",
      " -35.50423658 -34.50812622 -33.57728529 -32.69975584 -31.86615256\n",
      " -31.06915999 -30.30312311 -29.56372488 -28.84771844 -28.15271586\n",
      " -27.47701374 -26.81945301 -26.17930242 -25.55616631 -24.94990421\n",
      " -24.36056687 -23.78834062 -23.23350316 -22.69638507 -22.17734032\n",
      " -21.67672132 -21.19486126 -20.73205979 -20.28857729 -19.86462175\n",
      " -19.46036256 -19.075916   -18.7113565  -18.3667244  -18.04202062\n",
      " -17.73722713 -17.45231424 -17.18724217 -16.94197427 -16.71648761\n",
      " -16.51078161 -16.32488887 -16.15888593 -16.01290493 -15.88714567\n",
      " -15.7818895  -15.69751395 -15.63450974 -15.59349952 -15.57526036\n",
      " -15.58074811 -15.61112751 -15.6678057  -15.75247199 -15.86714364\n",
      " -16.01421645 -16.1965253  -16.41740343 -16.68074828 -16.99107662\n",
      " -17.35355889 -17.7740022  -18.25873066 -18.81428764 -19.44664253\n",
      " -20.16003306 -20.95414116 -21.81933536 -22.72773014 -23.61708945\n",
      " -24.36246771 -24.72851818 -24.29700509 -22.3823318  -18.01767003\n",
      " -10.26920945   0.63920566  11.16141591  12.46908518  -7.90509697\n",
      " -51.81165826 -88.33067748 -95.25190625 -87.43165982 -77.70473847\n",
      " -69.4683663  -62.94264198 -57.77533899 -53.62341183 -50.23084814\n",
      " -47.41426808 -45.04112748 -43.01362918 -41.25771324 -39.71812703\n",
      " -38.34985483 -37.11894577 -35.99832532 -34.96658296 -34.00678244\n",
      " -33.10554892 -32.25235791 -31.43898497 -30.65903471 -29.90759996\n",
      " -29.18096208 -28.47635371 -27.79176943 -27.12581065 -26.4775579\n",
      " -25.8464692  -25.23229301 -24.6349976  -24.05471185 -23.49167602\n",
      " -22.94619974 -22.4186296  -21.90932121 -21.41861871 -20.94683904]\n",
      "[-7.78416234e+00 -8.88989717e+00 -1.02146218e+01 -1.18220708e+01\n",
      " -1.37981903e+01 -1.62594930e+01 -1.93639519e+01 -2.33237679e+01\n",
      " -2.84163576e+01 -3.49821611e+01 -4.33809186e+01 -5.38506016e+01\n",
      " -6.62035039e+01 -7.94272634e+01 -9.17247413e+01 -1.01766845e+02\n",
      " -1.09221066e+02 -1.07389675e+02 -7.88306278e+01 -3.30441834e+01\n",
      "  2.12111026e-02  1.61578936e+01  2.25617381e+01  2.44243343e+01\n",
      "  2.43176177e+01  2.34206262e+01  2.22643868e+01  2.10831625e+01\n",
      "  1.99741702e+01  1.89709572e+01  1.80777508e+01  1.72858079e+01\n",
      "  1.65812741e+01  1.59489739e+01  1.53742104e+01  1.48435934e+01\n",
      "  1.43454034e+01  1.38697034e+01  1.34083358e+01  1.29548503e+01\n",
      "  1.25043893e+01  1.20535413e+01  1.16001773e+01  1.11432683e+01\n",
      "  1.06826969e+01  1.02190687e+01  9.75353034e+00  9.28760048e+00\n",
      "  8.82301924e+00  8.36161828e+00  7.90521434e+00  7.45552535e+00\n",
      "  7.01410890e+00  6.58232003e+00  6.16128665e+00  5.75189863e+00\n",
      "  5.35480857e+00  4.97044035e+00  4.59900499e+00  4.24051600e+00\n",
      "  3.89481537e+00  3.56158828e+00  3.24038618e+00  2.93064633e+00\n",
      "  2.63170391e+00  2.34281102e+00  2.06314832e+00  1.79183102e+00\n",
      "  1.52791682e+00  1.27040985e+00  1.01826088e+00  7.70365426e-01\n",
      "  5.25558611e-01  2.82606927e-01  4.01963034e-02 -2.03083587e-01\n",
      " -4.48759941e-01 -6.98502779e-01 -9.54157991e-01 -1.21778837e+00\n",
      " -1.49172607e+00 -1.77863790e+00 -2.08160888e+00 -2.40424880e+00\n",
      " -2.75082861e+00 -3.12645841e+00 -3.53731897e+00 -3.99096682e+00\n",
      " -4.49674072e+00 -5.06630595e+00 -5.71439165e+00 -6.45979766e+00\n",
      " -7.32678134e+00 -8.34705399e+00 -9.56211109e+00 -1.10277101e+01\n",
      " -1.28184103e+01 -1.50351804e+01 -1.78150264e+01 -2.13430814e+01\n",
      " -2.58652195e+01 -3.16942715e+01 -3.91908915e+01 -4.86769401e+01\n",
      " -6.02135288e+01 -7.32174102e+01 -8.61878045e+01 -9.73516130e+01\n",
      " -1.06153749e+02 -1.10476994e+02 -9.61552535e+01 -5.43629261e+01\n",
      " -1.30685886e+01  1.02402576e+01  2.03623800e+01  2.39075533e+01\n",
      "  2.45168461e+01  2.38965358e+01  2.28199013e+01  2.16323203e+01\n",
      "  2.04824808e+01  1.94278408e+01  1.84835631e+01  1.76464114e+01\n",
      "  1.69019532e+01  1.62376443e+01  1.56376418e+01  1.50878742e+01\n",
      "  1.45758152e+01  1.40906849e+01  1.36234969e+01  1.31670109e+01\n",
      "  1.27156408e+01  1.22653135e+01  1.18133212e+01  1.13581415e+01\n",
      "  1.08992530e+01  1.04369453e+01  9.97213309e+00  9.50618046e+00\n",
      "  9.04074112e+00  8.57761848e+00  8.11864804e+00  7.66560309e+00\n",
      "  7.22012290e+00  6.78366155e+00  6.35745572e+00  5.94250746e+00\n",
      "  5.53958006e+00  5.14920325e+00]\n"
     ]
    },
    {
     "name": "stderr",
     "output_type": "stream",
     "text": [
      "\n"
     ]
    }
   ],
   "source": [
    "# here we specify the total time\n",
    "totaltime = 150\n",
    "\n",
    "# First, we initialize the Q and U arrays\n",
    "Q_array=np.zeros(totaltime)\n",
    "U_array=np.zeros(totaltime)\n",
    "\n",
    "EVPA = np.arctan(-EVPA_x/EVPA_y) # we can do this calculation outside of the for loop because EVPA only depends on local B field\n",
    "# and the geometry as calculated by lensingbands and raytracing\n",
    "\n",
    "j = complex(0,1) # j stands for the imaginary number \"i\"\n",
    "\n",
    "\n",
    "#for dt in range(totaltime):\n",
    "for dt in tqdm(range(totaltime)):\n",
    "\n",
    "    # retrive I0 from intensity_transform function\n",
    "    I0 = intensity_transform(supergrid0, mask0, sign0, rs0, phi0, t0, dt)\n",
    "    I0 = (I0).reshape(N0,N0).T\n",
    "\n",
    "    # calculate total intensity\n",
    "    Itotal = I0\n",
    "    \n",
    "    # Calculate the observed linear polarization P_0 = m * I_0 * exp(2*i*EVPA), where m is the fractional degree of polarization.\n",
    "    # Here, we take m = 1.\n",
    "    P_0 = Itotal * np.exp(2*j*EVPA)\n",
    "    \n",
    "    # now we extract Q, which is the real part of P_0\n",
    "    P_0_real = P_0.real\n",
    "    \n",
    "    # then we extract U, which is the imaginary part of P_0\n",
    "    P_0_imaginary = P_0.imag\n",
    "    \n",
    "    # we calculate the Q flux at this instant in time\n",
    "    Q_flux = np.nansum(P_0_real)\n",
    "    \n",
    "    # we calculate the U flux at this instant in time\n",
    "    U_flux = np.nansum(P_0_imaginary)\n",
    "    \n",
    "    # we add Q_flux and U_flux to their respective arrays\n",
    "    Q_array[dt]=Q_flux\n",
    "    U_array[dt]=U_flux\n",
    "    \n",
    "\n",
    "print(Q_array)\n",
    "print(U_array)\n",
    "    "
   ]
  },
  {
   "cell_type": "code",
   "execution_count": 16,
   "id": "5880bda6",
   "metadata": {},
   "outputs": [
    {
     "data": {
      "image/png": "[encoded data removed]",
      "text/plain": [
       "<Figure size 500x500 with 1 Axes>"
      ]
     },
     "metadata": {},
     "output_type": "display_data"
    }
   ],
   "source": [
    "# now we want to plot them on a graph. \n",
    "\n",
    "fig, ax = plt.subplots(figsize=[5,5])\n",
    "\n",
    "Q=np.array(Q_array)\n",
    "U=np.array(U_array)\n",
    "\n",
    "plt.scatter(Q, U)\n",
    "plt.scatter(0, 0, color='red', s=100, marker = \"+\")\n",
    "plt.xlabel(\"Q\")\n",
    "plt.ylabel(\"U\")\n",
    "#plt.xlim(-5,5)\n",
    "#plt.ylim(-5, 5)\n",
    "#plt.text(-4, 16, fr'$\\theta$ = {i_case}, $r_s$ = {r_initial}', fontsize=12)\n",
    "plt.savefig(f\"polarization/config/theta_{i_case}_rs_{r_initial}_unswapped1\", dpi = 100)\n",
    "plt.show()\n",
    "\n"
   ]
  },
  {
   "cell_type": "markdown",
   "id": "df99c2b4-2d63-4f00-bfa3-52cd79cf6454",
   "metadata": {},
   "source": [
    "TODO:\n",
    "\n",
    "- Systematically check the convention of the angles\n",
    "- Trace back Zack's code and compare to yours. Every computation! We need to be sure of the steps of those tetrads and transformation"
   ]
  },
  {
   "cell_type": "markdown",
   "id": "87fd8fa9-bec6-4094-98d8-1b7d512eb855",
   "metadata": {},
   "source": [
    "Do we need this extra line of code?: coordtransform = np.matmul(np.matmul(minkmetric, getlorentzboost(-boost, chi)), emutetrad) essentially multiplying by\n",
    "another Minkowski Metric. "
   ]
  },
  {
   "cell_type": "markdown",
   "id": "68a2f31a-5523-42ff-accf-a4cdd1a1fee2",
   "metadata": {},
   "source": [
    "angle conventions\n",
    "did they use equation 46?\n"
   ]
  }
 ],
 "metadata": {
  "kernelspec": {
   "display_name": "Python 3 (ipykernel)",
   "language": "python",
   "name": "python3"
  },
  "language_info": {
   "codemirror_mode": {
    "name": "ipython",
    "version": 3
   },
   "file_extension": ".py",
   "mimetype": "text/x-python",
   "name": "python",
   "nbconvert_exporter": "python",
   "pygments_lexer": "ipython3",
   "version": "3.10.9"
  }
 },
 "nbformat": 4,
 "nbformat_minor": 5
}
