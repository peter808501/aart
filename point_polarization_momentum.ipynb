{
 "cells": [
  {
   "cell_type": "code",
   "execution_count": 64,
   "id": "79dcbcff-24ab-4ccf-9994-cfa484fc6217",
   "metadata": {},
   "outputs": [
    {
     "name": "stdout",
     "output_type": "stream",
     "text": [
      "0.01\n",
      "70\n"
     ]
    }
   ],
   "source": [
    "# import the aart libraries\n",
    "from aart_func import *\n",
    "from params import *\n",
    "\n",
    "#print black hole spin and inclination angle to check\n",
    "print(spin_case)\n",
    "print(i_case)"
   ]
  },
  {
   "cell_type": "code",
   "execution_count": 2,
   "id": "bcef7dc5-40d1-4f76-a40f-5566a299d60f",
   "metadata": {},
   "outputs": [
    {
     "name": "stdout",
     "output_type": "stream",
     "text": [
      "\n",
      "Thanks for using AART\n",
      "Copyright (C) 2022, A. Cardenas-Avendano, H. Zhu & A. Lupsasca\n",
      "\n",
      "Computing the lensing bands\n",
      "Number of points in the n=0 grid  6250000\n",
      "Number of points in the n=1 grid  6250000\n",
      "Number of points in the n=2 grid  6250000\n",
      "File  ./Results/LensingBands_a_0.01_i_70.h5  created.\n"
     ]
    }
   ],
   "source": [
    "# run lengsingbands.py\n",
    "!python3 lensingbands.py"
   ]
  },
  {
   "cell_type": "code",
   "execution_count": 65,
   "id": "262a75c3-ef04-4e9a-ac58-c6e0e8274cc3",
   "metadata": {},
   "outputs": [
    {
     "name": "stdout",
     "output_type": "stream",
     "text": [
      "Reading file:  ./Results/LensingBands_a_0.01_i_70.h5\n",
      "(6250000, 2)\n",
      "(6250000,)\n"
     ]
    }
   ],
   "source": [
    "# now we read in the results of lensingbands.py\n",
    "fnbands=\"./Results/LensingBands_a_%s_i_%s.h5\"%(spin_case,i_case)\n",
    "\n",
    "print(\"Reading file: \",fnbands)\n",
    "\n",
    "h5f = h5py.File(fnbands,'r')\n",
    "\n",
    "#Points for the boundary of the BH shadow\n",
    "alpha_critc=h5f['alpha'][:]\n",
    "beta_critc=h5f['beta'][:]\n",
    "\n",
    "#The concave hulls for the lensing bands\n",
    "hull_0i=h5f['hull_0i'][:]\n",
    "hull_0e=h5f['hull_0e'][:]\n",
    "hull_1i=h5f['hull_1i'][:]\n",
    "hull_1e=h5f['hull_1e'][:]\n",
    "hull_2i=h5f['hull_2i'][:]\n",
    "hull_2e=h5f['hull_2e'][:]\n",
    "\n",
    "#The grid points for each lensing band\n",
    "supergrid0=h5f['grid0'][:]\n",
    "N0=int(h5f[\"N0\"][0])\n",
    "mask0=h5f['mask0'][:]\n",
    "lim0=int(h5f[\"lim0\"][0])\n",
    "supergrid1=h5f['grid1'][:]\n",
    "N1=int(h5f[\"N1\"][0])\n",
    "mask1=h5f['mask1'][:]\n",
    "lim1=int(h5f[\"lim1\"][0])\n",
    "supergrid2=h5f['grid2'][:]\n",
    "N2=int(h5f[\"N2\"][0])\n",
    "mask2=h5f['mask2'][:]\n",
    "lim2=int(h5f[\"lim2\"][0])\n",
    "\n",
    "h5f.close()\n",
    "\n",
    "# note that, for our purpose (to produce Q and U loops), only the array supergrid0 is relevant. We do no need to use any other arrays. \n",
    "# Thus, let's see what supergrid0 looks like.\n",
    "\n",
    "print(supergrid0.shape)\n",
    "print(mask0.shape)"
   ]
  },
  {
   "cell_type": "code",
   "execution_count": 4,
   "id": "7284f7f4-d324-4121-9f75-503c2d3525e2",
   "metadata": {},
   "outputs": [
    {
     "name": "stdout",
     "output_type": "stream",
     "text": [
      "\n",
      "Thanks for using AART\n",
      "Copyright (C) 2022, A. Cardenas-Avendano, H. Zhu & A. Lupsasca\n",
      "\n",
      "Ray-tracing\n",
      "Reading file:  ./Results/LensingBands_a_0.01_i_70.h5\n",
      "Analytical ray-tracing of the n=0 band points\n",
      "Analytical ray-tracing of the n=1 band points\n",
      "Analytical ray-tracing of the n=2 band points\n",
      "File  ./Results/Rays_a_0.01_i_70.h5  created.\n",
      "\n",
      "A total of 18750000 photons were ray-traced\n"
     ]
    }
   ],
   "source": [
    "# run raytracing.py\n",
    "!python3 raytracing.py"
   ]
  },
  {
   "cell_type": "code",
   "execution_count": 84,
   "id": "b8f68ce8-e371-40ab-94a3-bc10aa235810",
   "metadata": {},
   "outputs": [
    {
     "name": "stdout",
     "output_type": "stream",
     "text": [
      "Reading file:  ./Results/Rays_a_0.01_i_70.h5\n",
      "(6250000,)\n"
     ]
    }
   ],
   "source": [
    "# and now we read in the results of raytracing.py\n",
    "\n",
    "fnrays=\"./Results/Rays_a_%s_i_%s.h5\"%(spin_case,i_case)\n",
    "\n",
    "print(\"Reading file: \",fnrays)\n",
    "\n",
    "h5f = h5py.File(fnrays,'r')\n",
    "\n",
    "rs0=h5f['rs0'][:]\n",
    "sign0=h5f['sign0'][:]\n",
    "t0=h5f['t0'][:]\n",
    "phi0=h5f['phi0'][:]\n",
    "\n",
    "rs1=h5f['rs1'][:]\n",
    "sign1=h5f['sign1'][:]\n",
    "t1=h5f['t1'][:]\n",
    "phi1=h5f['phi1'][:]\n",
    "\n",
    "rs2=h5f['rs2'][:]\n",
    "sign2=h5f['sign2'][:]\n",
    "t2=h5f['t2'][:]\n",
    "phi2=h5f['phi2'][:]\n",
    "\n",
    "\n",
    "h5f.close()\n",
    "\n",
    "print(rs0.shape)"
   ]
  },
  {
   "cell_type": "code",
   "execution_count": 85,
   "id": "8f3b145c-2347-44c2-8387-8b8f588b87b4",
   "metadata": {},
   "outputs": [],
   "source": [
    "# now instead of running polarization.py, we use Zack's paper to build a parallel version of polarization_f.py\n",
    "\n",
    "# then, specify the local magnetic field, in the order of x, y, z\n",
    "\"\"\"Cartesian?\"\"\"\n",
    "\n",
    "b_array = np.array([0, 0, 1])"
   ]
  },
  {
   "cell_type": "code",
   "execution_count": 88,
   "id": "fe98350f-4bcb-4158-aad5-b388993c2edf",
   "metadata": {},
   "outputs": [],
   "source": [
    "\n",
    "# first, we extract the alpha and beta coordinates from the parameter \"grid\". Recall that \"grid\" is calculated by lensingbands.py.\n",
    "alpha = supergrid0[:,0][mask0]\n",
    "beta = supergrid0[:, 1][mask0]\n",
    "\n",
    "# find the corresponding emmission radius\n",
    "rs = rs0[mask0]\n",
    "angle=phi0[mask0]%(2*np.pi)\n",
    "\n",
    "indx=np.argsort(angle)\n",
    "\n",
    "sign = sign0[mask0]\n",
    "\n",
    "# then, we find the conserved quantities lam(angular_momentum) and eta(carter constant) using a function from raytracing.py\n",
    "# Zack's paper, equation 14, but calculated using AART code.\n",
    "lam, eta = rt.conserved_quantities(alpha, beta, i_case, spin_case)\n",
    "\n",
    "# then, we calculate all the quantities defined in equation 2 of Zack's paper\n",
    "delta = rs**2 - 2*rs + spin_case**2\n",
    "xi = (rs**2 + spin_case**2)**2 - delta * (spin_case**2) # here, we are taking theta = pi/2. This is a correction from previously where I mistook theta for i_case. \n",
    "omega_zamo = (2 * spin_case * rs) / xi\n",
    "chi = -np.pi/2\n",
    "\n",
    "# then, we find the radial potential\n",
    "# Zack's paper equation 10, here using AART function from raytracing.py\n",
    "v_rad = rt.radial_potential(rs, spin_case, lam, eta)\n"
   ]
  },
  {
   "cell_type": "code",
   "execution_count": 89,
   "id": "ab188b43-2383-4859-8453-954da43181f8",
   "metadata": {},
   "outputs": [],
   "source": [
    "# in this code block, we select for the elements in all the arrays above that correspond to a specific constant emission radius.\n",
    "\n",
    "# define the constant emission radius\n",
    "r = 8\n",
    "\n",
    "# define the upper and lower bounds\n",
    "upper = r + 0.001\n",
    "lower = r - 0.001\n",
    "\n",
    "# construct the mask\n",
    "mask = (rs < upper) & (rs > lower)\n"
   ]
  },
  {
   "cell_type": "code",
   "execution_count": 90,
   "id": "8a15f1d8-a82e-4720-ad73-a0f9f0d1c0e1",
   "metadata": {},
   "outputs": [],
   "source": [
    "# construct the new rs array\n",
    "rs_r = rs[mask]\n",
    "\n",
    "# construct new alpha array\n",
    "alpha_r = alpha[mask]\n",
    "\n",
    "# construct the new beta array\n",
    "beta_r = beta[mask]\n",
    "\n",
    "# and so on, get the rest of these quantities\n",
    "lam_r = lam[mask]\n",
    "eta_r = eta[mask]\n",
    "delta_r = delta[mask]\n",
    "xi_r = xi[mask]\n",
    "omega_zamo_r = omega_zamo[mask]\n",
    "chi = -np.pi/2 # chi does not change\n",
    "v_rad_r = v_rad[mask]\n",
    "sign_r = sign[mask]\n",
    "\n",
    "\n",
    "\n"
   ]
  },
  {
   "cell_type": "code",
   "execution_count": 91,
   "id": "8d97481f-3612-4022-b5f7-06f70a7de912",
   "metadata": {},
   "outputs": [],
   "source": [
    "def zamo_transform_matrix(rs):\n",
    "    entry1_1 = (1/rs) * np.sqrt(xi/delta)\n",
    "    entry1_3 = (omega_zamo / rs) * np.sqrt(xi/delta)\n",
    "    entry2_2 = np.sqrt(delta) / rs\n",
    "    entry3_3 = rs / (np.sqrt(xi))\n",
    "    entry4_4 = - (1/rs)\n",
    "    zamo_transform_matrix = np.array([[entry1_1, 0, entry1_3, 0], [0, entry2_2, 0, 0], [0, 0, entry3_3, 0], [0, 0, 0, entry4_4]])\n",
    "    return zamo_transform_matrix"
   ]
  },
  {
   "cell_type": "code",
   "execution_count": 92,
   "id": "347cdb5e-ddd5-4f62-b5e6-9147d9b0daa8",
   "metadata": {},
   "outputs": [],
   "source": [
    "def boost_transform_matrix(rs):\n",
    "    beta = (spin_case**2 - 2 * np.abs(spin_case) * np.sqrt(rs) + rs**2) / (np.sqrt(spin_case**2 + rs * (rs -2)) * (np.abs(spin_case) + rs*1.5))\n",
    "    # beta = 1 / np.sqrt(rs - 2)\n",
    "    \"\"\"beta is different from Zack's, I believe. He used beta = 1/np.sqrt(rvals[0]-2).\"\"\"\n",
    "    kai = - np.pi/2\n",
    "    gamma = 1/(np.sqrt(1-beta**2))\n",
    "    bentry1_1 = gamma\n",
    "    bentry1_2 = -beta*gamma*np.cos(kai)\n",
    "    bentry1_3 = -beta*gamma*np.sin(kai)\n",
    "    bentry2_1 = bentry1_2\n",
    "    bentry2_2 = (gamma-1) * (np.cos(kai))**2 + 1\n",
    "    bentry2_3 = (gamma-1) * np.cos(kai) * np.sin(kai)\n",
    "    bentry3_1 = bentry1_3 \n",
    "    bentry3_2 = bentry2_3\n",
    "    bentry3_3 = (gamma-1) * (np.sin(kai))**2 + 1\n",
    "    boost_transform_matrix = np.array ([[bentry1_1, bentry1_2, bentry1_3, 0], [bentry2_1, bentry2_2, bentry2_3, 0], [bentry3_1, bentry3_2, bentry3_3, 0], [0, 0, 0, 1] ])\n",
    "    return boost_transform_matrix"
   ]
  },
  {
   "cell_type": "code",
   "execution_count": 93,
   "id": "231c39e5-fc9f-434b-a5db-4a6185301af0",
   "metadata": {},
   "outputs": [
    {
     "data": {
      "text/plain": [
       "'Why is the transpose the inverse? Orthogonal matrix? What if I just used np.linalg.inv()? Also, why is the lorentz transformation matrix no longer here?'"
      ]
     },
     "execution_count": 93,
     "metadata": {},
     "output_type": "execute_result"
    }
   ],
   "source": [
    "# next, we build the overall coordinate transform from the local frame to the observer frame\n",
    "def coordtransform(rs): \n",
    "    minkmetric = np.diag([-1, 1, 1, 1])\n",
    "    coordtransform = np.matmul(np.matmul(minkmetric, boost_transform_matrix(rs)), zamo_transform_matrix(rs))\n",
    "    return coordtransform\n",
    "\n",
    "# and we also find its inverse\n",
    "def coordtransforminverse(rs):\n",
    "    return np.transpose(np.matmul(boost_transform_matrix(rs), zamo_transform_matrix(rs)))\n",
    "\n",
    "\"\"\"Why is the transpose the inverse? Orthogonal matrix? What if I just used np.linalg.inv()? Also, why is the lorentz transformation matrix no longer here?\"\"\""
   ]
  },
  {
   "cell_type": "code",
   "execution_count": 96,
   "id": "1a1bc96a-0354-41d7-b65c-4da3a70d0f90",
   "metadata": {},
   "outputs": [
    {
     "data": {
      "image/png": "[encoded data removed]",
      "text/plain": [
       "<Figure size 640x480 with 1 Axes>"
      ]
     },
     "metadata": {},
     "output_type": "display_data"
    }
   ],
   "source": [
    "\n",
    "# below here we have to do a gigantic enumerate loop\n",
    "for i, r in enumerate(rs_r):\n",
    "    \n",
    "    # define the individual quantities\n",
    "    alpha = alpha_r[i]\n",
    "    beta = beta_r[i]\n",
    "    lam = lam_r[i]\n",
    "    eta = eta_r[i]\n",
    "    delta = delta_r[i]\n",
    "    xi = xi_r[i]\n",
    "    omega_zamo = omega_zamo_r[i]\n",
    "    chi = -np.pi/2\n",
    "    v_rad = v_rad_r[i]\n",
    "    sign = sign_r[i]\n",
    "    \n",
    "    # define the lowered momentum in Boyer-Lindquist\n",
    "    p_lower_t = -1\n",
    "    p_lower_r = sign * np.sqrt(v_rad) / delta\n",
    "    \"\"\"What is the sign of this?\"\"\"\n",
    "    p_lower_phi = lam\n",
    "    p_lower_theta = - np.sqrt(eta)\n",
    "    \n",
    "    p_lower_matrix = np.array([p_lower_t, p_lower_r, p_lower_phi, p_lower_theta])\n",
    "    \n",
    "    # transform p_lower_matrix to local frame\n",
    "    p_local_matrix = np.matmul(coordtransform(r), p_lower_matrix)\n",
    "    \n",
    "    \"\"\"What do these mean in Zack's code?\"\"\"\n",
    "    redshift = 1 / p_local_matrix[0]\n",
    "    lp = 1\n",
    "    \n",
    "    # take the cross product of p_local_matrix and b_array to find the local polarization\n",
    "    # and then insert 0 as the t coordinate, and normalize it\n",
    "    # Zack's paper page 5 equation 25\n",
    "    local_polarization = np.cross(p_local_matrix[1:], b_array)\n",
    "    local_polarization = np.insert(local_polarization, 0, 0) / np.linalg.norm(p_local_matrix[1:])\n",
    "    \n",
    "    # now we transform the local polarization back into Boyer-Lindquist\n",
    "    upper_polarization = np.matmul(coordtransforminverse(r), local_polarization)\n",
    "    f_t = upper_polarization[0]\n",
    "    f_r = upper_polarization[1]\n",
    "    f_theta = upper_polarization[2]\n",
    "    f_phi = upper_polarization[3]\n",
    "    \n",
    "    # now we calculate the raised momentum in Boyer_Lindquist\n",
    "    # Zack's paper page 5 equation 24\n",
    "    p_upper_t = 1 / (r**2) * (-spin_case * (spin_case - lam) + (r**2 + spin_case**2) * (r**2 + spin_case**2 - spin_case * lam) / delta)\n",
    "    p_upper_r = sign * np.sqrt(v_rad) / r**2\n",
    "    p_upper_theta = -np.sqrt(eta) / r**2\n",
    "    p_upper_phi = 1/(r**2) * (-(spin_case -lam) + (spin_case * (r**2 + spin_case**2 - spin_case * lam)) / delta)\n",
    "    \n",
    "    # now, we proceed to calculate the Penrose_Walker Constant\n",
    "    # Zack's paper page 5 equation 29\n",
    "    AA = (p_upper_t * f_r - p_upper_r * f_t) + spin_case * (p_upper_r * f_phi - p_upper_phi * f_r)\n",
    "    BB = (r**2 + spin_case**2) * (p_upper_phi * f_theta - p_upper_theta * f_phi) - spin_case * (p_upper_t * f_theta - p_upper_theta * f_t)\n",
    "    k1 = r * AA\n",
    "    k2 = -r * BB\n",
    "    \n",
    "    \n",
    "    # calculate falpha and fbeta\n",
    "    # Zack's paper page 6 equation 31\n",
    "    nu = -(alpha + spin_case * np.sin(i_case))\n",
    "    falpha = (beta * k2 - nu * k1) / (nu**2 + beta**2)\n",
    "    fbeta = (beta * k1 + nu * k2) / (nu**2 + beta**2)\n",
    "    \n",
    "    \n",
    "    \"\"\"why is the following step necessary? Where on paper?\"\"\"\n",
    "    falpha *= redshift**2 * np.sqrt(np.abs(lp))\n",
    "    fbeta *= redshift**2 * np.sqrt(np.abs(lp))\n",
    "    \n",
    "    # calculate Q and U\n",
    "    # Zack's paper \n",
    "    Q = fbeta**2 - falpha**2\n",
    "    U = -2 * falpha * fbeta\n",
    "    \n",
    "    plt.scatter(Q, U)\n",
    "    \n",
    "plt.savefig(f\"QUloops/({b_array})_{i_case}_{round(r)}.jpg\")\n",
    "    \n",
    "    "
   ]
  },
  {
   "cell_type": "code",
   "execution_count": 39,
   "id": "1cf33246-bbcf-47d2-bda7-2b686c072f76",
   "metadata": {},
   "outputs": [
    {
     "data": {
      "text/plain": [
       "\"What might be the problem?\\n1. the sign of p_lower_r and p_upper_r.\\n2. how beta is defined\\nOther differences from Zach's code?\""
      ]
     },
     "execution_count": 39,
     "metadata": {},
     "output_type": "execute_result"
    }
   ],
   "source": [
    "\"\"\"What might be the problem?\n",
    "1. the sign of p_lower_r and p_upper_r.\n",
    "2. how beta is defined\n",
    "Other differences from Zach's code?\"\"\""
   ]
  },
  {
   "cell_type": "code",
   "execution_count": null,
   "id": "19d5328a-d17f-497d-9385-835f1300a71c",
   "metadata": {},
   "outputs": [],
   "source": []
  },
  {
   "cell_type": "code",
   "execution_count": null,
   "id": "e98ffedc-6533-4fbf-abcb-ef50a83fe9ad",
   "metadata": {},
   "outputs": [],
   "source": [
    "\n"
   ]
  },
  {
   "cell_type": "code",
   "execution_count": null,
   "id": "d60ddeeb-bef8-4d0d-8159-dd780f28bded",
   "metadata": {},
   "outputs": [],
   "source": []
  }
 ],
 "metadata": {
  "kernelspec": {
   "display_name": "Python 3 (ipykernel)",
   "language": "python",
   "name": "python3"
  },
  "language_info": {
   "codemirror_mode": {
    "name": "ipython",
    "version": 3
   },
   "file_extension": ".py",
   "mimetype": "text/x-python",
   "name": "python",
   "nbconvert_exporter": "python",
   "pygments_lexer": "ipython3",
   "version": "3.10.9"
  }
 },
 "nbformat": 4,
 "nbformat_minor": 5
}
