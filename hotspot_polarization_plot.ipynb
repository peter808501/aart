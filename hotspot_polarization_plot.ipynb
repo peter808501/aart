{
 "cells": [
  {
   "cell_type": "code",
   "execution_count": 1,
   "id": "4a1c1597",
   "metadata": {},
   "outputs": [
    {
     "name": "stdout",
     "output_type": "stream",
     "text": [
      "\n",
      "Thanks for using AART\n",
      "Copyright (C) 2022, A. Cardenas-Avendano, H. Zhu & A. Lupsasca\n",
      "\n"
     ]
    }
   ],
   "source": [
    "\"\"\"main discoveries after reading Zach's paper:\n",
    "1. His orbiting hotspot model is a point source, not a Gaussian. We can approximate this by setting the xwidth and ywidth\n",
    "of the Gaussian close to 0. \n",
    "2. His coordinates are in the order of (t, r, phi, theta), while in AART it's (t, r, theta, phi).\n",
    "\n",
    "Questions: \n",
    "2. Does the magnetic field functions take radians or degrees as inputs? Answer: Radians\n",
    "\n",
    "\"\"\"\n",
    "\n",
    "\n",
    "# import all functions from the Adaptive Analytical Ray Tracing code library\n",
    "from aart_func import * \n",
    "from params import * # The file params.py contains all the relevant parameters for the simulations\n",
    "from tqdm import tqdm\n",
    "import b_transformer as bt\n",
    "#import importlib"
   ]
  },
  {
   "cell_type": "code",
   "execution_count": null,
   "id": "a1d41959-ed4f-4c16-ac12-c7baac39d7d3",
   "metadata": {},
   "outputs": [],
   "source": []
  },
  {
   "cell_type": "code",
   "execution_count": 2,
   "id": "de73aa1d-b25c-4dec-a59e-16236c3e7715",
   "metadata": {},
   "outputs": [
    {
     "name": "stdout",
     "output_type": "stream",
     "text": [
      "70\n",
      "0.02\n"
     ]
    }
   ],
   "source": [
    "print(i_case)\n",
    "print(spin_case)"
   ]
  },
  {
   "cell_type": "code",
   "execution_count": 3,
   "id": "c7372bae",
   "metadata": {},
   "outputs": [
    {
     "name": "stdout",
     "output_type": "stream",
     "text": [
      "\n",
      "Thanks for using AART\n",
      "Copyright (C) 2022, A. Cardenas-Avendano, H. Zhu & A. Lupsasca\n",
      "\n",
      "Computing the lensing bands\n",
      "Number of points in the n=0 grid  9000000\n",
      "Number of points in the n=1 grid  900\n",
      "Number of points in the n=2 grid  484\n",
      "File  ./Results/LensingBands_a_0.02_i_70.h5  created.\n"
     ]
    }
   ],
   "source": [
    "# run lensingbands.py\n",
    "!python lensingbands.py"
   ]
  },
  {
   "cell_type": "code",
   "execution_count": 3,
   "id": "144685da",
   "metadata": {},
   "outputs": [
    {
     "name": "stdout",
     "output_type": "stream",
     "text": [
      "Reading file:  ./Results/LensingBands_a_0.02_i_70.h5\n"
     ]
    }
   ],
   "source": [
    "# read in the results of lensingbands.py\n",
    "fnbands=\"./Results/LensingBands_a_%s_i_%s.h5\"%(spin_case,i_case)\n",
    "\n",
    "print(\"Reading file: \",fnbands)\n",
    "\n",
    "h5f = h5py.File(fnbands,'r')\n",
    "\n",
    "#Points for the boundary of the BH shadow\n",
    "alpha_critc=h5f['alpha'][:]\n",
    "beta_critc=h5f['beta'][:]\n",
    "\n",
    "#The concave hulls for the lensing bands\n",
    "hull_0i=h5f['hull_0i'][:]\n",
    "hull_0e=h5f['hull_0e'][:]\n",
    "hull_1i=h5f['hull_1i'][:]\n",
    "hull_1e=h5f['hull_1e'][:]\n",
    "hull_2i=h5f['hull_2i'][:]\n",
    "hull_2e=h5f['hull_2e'][:]\n",
    "\n",
    "#The grid points for each lensing band\n",
    "supergrid0=h5f['grid0'][:]\n",
    "N0=int(h5f[\"N0\"][0])\n",
    "mask0=h5f['mask0'][:]\n",
    "lim0=int(h5f[\"lim0\"][0])\n",
    "supergrid1=h5f['grid1'][:]\n",
    "N1=int(h5f[\"N1\"][0])\n",
    "mask1=h5f['mask1'][:]\n",
    "lim1=int(h5f[\"lim1\"][0])\n",
    "supergrid2=h5f['grid2'][:]\n",
    "N2=int(h5f[\"N2\"][0])\n",
    "mask2=h5f['mask2'][:]\n",
    "lim2=int(h5f[\"lim2\"][0])\n",
    "\n",
    "\n",
    "\n",
    "\n",
    "h5f.close()\n"
   ]
  },
  {
   "cell_type": "code",
   "execution_count": 5,
   "id": "55eff169",
   "metadata": {},
   "outputs": [
    {
     "name": "stdout",
     "output_type": "stream",
     "text": [
      "\n",
      "Thanks for using AART\n",
      "Copyright (C) 2022, A. Cardenas-Avendano, H. Zhu & A. Lupsasca\n",
      "\n",
      "Ray-tracing\n",
      "Reading file:  ./Results/LensingBands_a_0.02_i_70.h5\n",
      "Analytical ray-tracing of the n=0 band points\n",
      "Analytical ray-tracing of the n=1 band points\n",
      "Analytical ray-tracing of the n=2 band points\n",
      "File  ./Results/Rays_a_0.02_i_70.h5  created.\n",
      "\n",
      "A total of 9001384 photons were ray-traced\n"
     ]
    }
   ],
   "source": [
    "# run raytracing.py\n",
    "!python raytracing.py"
   ]
  },
  {
   "cell_type": "code",
   "execution_count": 4,
   "id": "ae800d0d",
   "metadata": {},
   "outputs": [
    {
     "name": "stdout",
     "output_type": "stream",
     "text": [
      "Reading file:  ./Results/Rays_a_0.02_i_70.h5\n"
     ]
    }
   ],
   "source": [
    "# read in the results of raytracing.py\n",
    "fnrays=\"./Results/Rays_a_%s_i_%s.h5\"%(spin_case,i_case)\n",
    "\n",
    "print(\"Reading file: \",fnrays)\n",
    "\n",
    "h5f = h5py.File(fnrays,'r')\n",
    "\n",
    "rs0=h5f['rs0'][:]\n",
    "sign0=h5f['sign0'][:]\n",
    "t0=h5f['t0'][:]\n",
    "phi0=h5f['phi0'][:]\n",
    "\n",
    "rs1=h5f['rs1'][:]\n",
    "sign1=h5f['sign1'][:]\n",
    "t1=h5f['t1'][:]\n",
    "phi1=h5f['phi1'][:]\n",
    "\n",
    "rs2=h5f['rs2'][:]\n",
    "sign2=h5f['sign2'][:]\n",
    "t2=h5f['t2'][:]\n",
    "phi2=h5f['phi2'][:]\n",
    "\n",
    "\n",
    "\n",
    "h5f.close()"
   ]
  },
  {
   "cell_type": "code",
   "execution_count": 5,
   "id": "05b6e6f4",
   "metadata": {},
   "outputs": [],
   "source": [
    "r_initial = 8\n",
    "angle_initial = 1/6 * np.pi\n",
    "\"\"\"What units is omega in? geometrized units of L**-1? pi is not here\"\"\"\n",
    "omega = 1/(r_initial**1.5 + spin_case)\n",
    "\n",
    "\n",
    "def intensity_transform(grid, mask, redshift_sign, rsource, thetasource, timesource, t):\n",
    "    \"\"\" Here is a brief explanation of the parameters for this function: \n",
    "    \n",
    "        grid: grid that is returned by lensingbands.py (contains the alpha and beta coordinates)\n",
    "        mask: mask that is returned by lensing bands.py (? what exactly is mask, and why is it always used as an index?) it is a boolean array\n",
    "        , but why can it be used to index both alpha and beta (which is on the observer plane), and r, theta, t (which is on the source plane)?\n",
    "        possibly because mask specifies whether a point, in both observer and source plane, is within a particular lensing band. \n",
    "        redshift_sign: ??? what is the redshift sign and how is it used? \n",
    "        rsource: the r coordinate in the source plane\n",
    "        thetasource: the theta coordinate in the source plane\n",
    "        timesource: the time coordinate in the source plane\n",
    "       \n",
    "    \"\"\"\n",
    "    \n",
    "    # first, we extract the alpha and beta coordinates from the parameter \"grid\". Recall that \"grid\" is calculated by lensingbands.py.\n",
    "    alpha = grid[:,0][mask]\n",
    "    beta = grid[:, 1][mask] \n",
    "    #sidenote on python syntax: [:, 0] means that we select all the rows of the array, as well as the index 0 column\n",
    "    # which means we are effectively selecting all elements in the index 0 column.\n",
    "    # now, if we apply an extra [mask] to that (and mask is an array consisting of booleans), we select elements in the index 0 column\n",
    "    # that fits the condition of true as specified by mask. \n",
    "    \n",
    "    # next, we extract the source r, theta, and t coordinates from the parameters \"rsource\", \"thetasource\", and \"timesource\"\n",
    "    r = rsource[mask]\n",
    "    theta = thetasource[mask]\n",
    "    time = timesource[mask]\n",
    "    \n",
    "     # next, we extract the redshift signs from the parameter \"redshift_sign\"\n",
    "    sign = redshift_sign[mask]\n",
    "    \n",
    "    # next, we calculate the angular momentum and carter constant, which is needed to calculate the observer intensity\n",
    "    angular_momentum, carter_constant = rt.conserved_quantities(alpha, beta, i_case, spin_case)\n",
    "      # side note: i_case is measured from the spin axis of the black hole. (?? is that the only parameter that is needed, say\n",
    "        # what if we had two observers at the same i_case but different thetas?)\n",
    "        \n",
    "    # then, we create an empty array that represents the intensity at the source plane. This array can be customized later. For now we only\n",
    "    # need to know the size.\n",
    "    intensitysource = np.zeros(r.shape[0])\n",
    "    # side note on python syntax: r.shape gives the number of rows in the array r. In the case of r being a one-dimensional array, it simply gives\n",
    "    # the number of elements. \n",
    "    \n",
    "    \n",
    "    # Currently, the source plane is desribed by polar coordinates. In this next step, we translate it into Cartesian coordinates. \n",
    "    x = r * cos(theta)\n",
    "    y = r * sin(theta)\n",
    "    \n",
    "    # time-dependent motion of the centroid of the gaussian\n",
    "    \n",
    "    x0 = r_initial * np.cos (angle_initial + omega * t)\n",
    "    y0 = r_initial * np.sin (angle_initial + omega * t)\n",
    "    \n",
    "    gwdithx=0.05\n",
    "    gwdithy=0.05\n",
    "    \n",
    "    # next, we define a specific intensity profile in the source plane: in this case, a Gaussian centered at (10, 10) with xwidth and ywidth both 5\n",
    "    brightness = np.exp(-(x-x0)**2/gwdithx**2-(y-y0)**2/gwdithy**2)\n",
    "    # the reason we do not need to create a meshgrid here: we are already given all the corresponding (x,y) coordinates that lie within a particular lensing band.\n",
    "    \n",
    "    \n",
    "    # now we coome to the most crucial step: calculating the intensity at the observer plane.There are two scenarios: when the radius is smaller \n",
    "    # than the innermost stable orbit, and when the radius is larger than the innermost stable orbit. \n",
    "    isco = rms(spin_case)\n",
    "    brightness[r < isco] *= obsint.gGas(r[r < isco], spin_case, sign[r < isco], angular_momentum[r < isco], carter_constant[r < isco])\n",
    "    brightness[r >= isco] *= obsint.gDisk(r[r >= isco], spin_case, sign[r >= isco], angular_momentum[r >= isco], carter_constant[r >= isco])\n",
    "    \n",
    "    # naturally, anything that's behind the black hole shadow cannot be seen, so we have to set those brightness to 0.\n",
    "    r_p = 1+np.sqrt(1-spin_case**2)\n",
    "    brightness[r <= r_p] = 0\n",
    "    \n",
    "    I = np.zeros(mask.shape)\n",
    "    I[mask] = brightness\n",
    "    I[mask==0] = np.nan\n",
    "    return(I)"
   ]
  },
  {
   "cell_type": "code",
   "execution_count": 6,
   "id": "4518328e-582c-4565-94b4-d00285bce420",
   "metadata": {},
   "outputs": [
    {
     "name": "stdout",
     "output_type": "stream",
     "text": [
      "70\n",
      "0.02\n",
      "[ 0.     0.     0.    -0.125 70.   ]\n"
     ]
    }
   ],
   "source": [
    "# first, we specify the local magnetic field in Cartesian coordinates\n",
    "print(i_case)\n",
    "print(spin_case)\n",
    "\n",
    "b_r = 0\n",
    "b_phi = 0\n",
    "b_theta = 1\n",
    "\n",
    "# then, we feed these values into bt.b_local_to_observer_transform to get the coordinates in the observer frame\n",
    "b_observer_array = bt.b_local_to_observer_transform(b_r, b_phi, b_theta, r_initial)\n",
    "print(b_observer_array)\n"
   ]
  },
  {
   "cell_type": "code",
   "execution_count": 7,
   "id": "ef227ac4",
   "metadata": {},
   "outputs": [
    {
     "name": "stdout",
     "output_type": "stream",
     "text": [
      "\n",
      "Thanks for using AART\n",
      "Copyright (C) 2022, A. Cardenas-Avendano, H. Zhu & A. Lupsasca\n",
      "\n",
      "Polarization\n",
      "Reading file:  ./Results/LensingBands_a_0.02_i_70.h5\n",
      "Reading file:  ./Results/Rays_a_0.02_i_70.h5\n",
      "File  ./Results/Polarization_a_0.02_i_70.h5  created.\n"
     ]
    }
   ],
   "source": [
    "# now, we plug in the values we calculated above into polarization_f.py in aart_func, and then run the python file.\n",
    "# now we run polarization.py, which returns EVPA_x and EVPA_y. From these 2 quantities, EVPA can be found using the formula\n",
    "# on Alejandro and Hengrui's paper page 6 formula 5\n",
    "!python polarization.py\n"
   ]
  },
  {
   "cell_type": "code",
   "execution_count": 8,
   "id": "aa474195",
   "metadata": {},
   "outputs": [
    {
     "name": "stdout",
     "output_type": "stream",
     "text": [
      "Reading file:  ./Results/Polarization_a_0.02_i_70.h5\n",
      "(2500, 2500)\n",
      "(2500, 2500)\n",
      "(2500, 2500)\n"
     ]
    }
   ],
   "source": [
    "# read in the outputs of polarization.py\n",
    "\n",
    "fnpolarization = \"./Results/Polarization_a_%s_i_%s.h5\"%(spin_case, i_case)\n",
    "\n",
    "print(\"Reading file: \", fnpolarization)\n",
    "\n",
    "h5f = h5py.File(fnpolarization, 'r')\n",
    "\n",
    "penrosewalker = h5f['PK'][:]\n",
    "EVPA_x = h5f['EVPA_x'][:]\n",
    "EVPA_y = h5f['EVPA_y'][:]\n",
    "             \n",
    "\n",
    "h5f.close()\n",
    "\n",
    "print(penrosewalker.shape)\n",
    "print(EVPA_x.shape)\n",
    "print(EVPA_y.shape)\n",
    "\n"
   ]
  },
  {
   "cell_type": "code",
   "execution_count": 9,
   "id": "0ead7690",
   "metadata": {},
   "outputs": [
    {
     "name": "stderr",
     "output_type": "stream",
     "text": [
      "100%|██████████| 150/150 [02:43<00:00,  1.09s/it]"
     ]
    },
    {
     "name": "stdout",
     "output_type": "stream",
     "text": [
      "[ -5.16298482  -5.25844887  -5.36345635  -5.47882838  -5.60540679\n",
      "  -5.74401573  -5.89539843  -6.06011622  -6.23839144  -6.4298691\n",
      "  -6.633262    -6.84583576  -7.0626869   -7.27578338  -7.47280642\n",
      "  -7.63601544  -7.74177205  -7.76215515  -7.67136639  -7.46099114\n",
      "  -7.16798186  -6.91364195  -6.93618471  -7.57482395  -9.14865807\n",
      " -11.71433625 -14.83809195 -17.69060047 -19.55509776 -20.24911306\n",
      " -20.03791682 -19.30459128 -18.34714416 -17.34289015 -16.38066898\n",
      " -15.49781877 -14.70510185 -14.00072479 -13.37757531 -12.82676883\n",
      " -12.33930419 -11.90678026 -11.52165751 -11.17730518 -10.8679539\n",
      " -10.58861178 -10.33497128 -10.10332225  -9.89046397  -9.69366105\n",
      "  -9.5105387   -9.33902449  -9.17741896  -9.0244969   -8.87824883\n",
      "  -8.7382611   -8.6041506   -8.47440846  -8.3479823   -8.22342233\n",
      "  -8.10309105  -7.99051623  -7.86875273  -7.76277202  -7.65383739\n",
      "  -7.54115967  -7.43424406  -7.33550781  -7.23330814  -7.11664842\n",
      "  -7.03608807  -6.93350462  -6.82931252  -6.73823998  -6.66026921\n",
      "  -6.5570196   -6.48106455  -6.3790368   -6.29332907  -6.22082281\n",
      "  -6.15039595  -6.05858095  -5.97679513  -5.9026321   -5.83814063\n",
      "  -5.77356148  -5.70754288  -5.6374305   -5.57733048  -5.49831471\n",
      "  -5.45125546  -5.39210529  -5.3313659   -5.26284629  -5.21810496\n",
      "  -5.16908825  -5.11161221  -5.06085707  -5.0123802   -4.97081422\n",
      "  -4.92120669  -4.88937591  -4.83846917  -4.80252326  -4.76361634\n",
      "  -4.74204851  -4.69619709  -4.67076364  -4.63922773  -4.61056475\n",
      "  -4.59773609  -4.57035012  -4.54365111  -4.52914426  -4.51503095\n",
      "  -4.4857643   -4.47860071  -4.47320378  -4.46279454  -4.44786805\n",
      "  -4.44014665  -4.44530725  -4.44102441  -4.43742138  -4.44181663\n",
      "  -4.44895688  -4.46092513  -4.4763038   -4.48690831  -4.50837231\n",
      "  -4.5272357   -4.55210013  -4.5810971   -4.61342122  -4.64969133\n",
      "  -4.69064578  -4.73661861  -4.78733561  -4.843928    -4.90647651\n",
      "  -4.97565963  -5.05204892  -5.13627521  -5.22904626  -5.33112639\n",
      "  -5.44332314  -5.5664751   -5.70141696  -5.84892476  -6.00962746]\n",
      "[-1.75001863e+00 -1.90943185e+00 -2.08613265e+00 -2.28313034e+00\n",
      " -2.50406070e+00 -2.75333338e+00 -3.03631457e+00 -3.35955058e+00\n",
      " -3.73103688e+00 -4.16053253e+00 -4.65990869e+00 -5.24349735e+00\n",
      " -5.92836286e+00 -6.73434070e+00 -7.68355647e+00 -8.79893848e+00\n",
      " -1.01009821e+01 -1.16018173e+01 -1.32957673e+01 -1.51466168e+01\n",
      " -1.70741571e+01 -1.89451627e+01 -2.05723207e+01 -2.17145867e+01\n",
      " -2.20683069e+01 -2.12835110e+01 -1.91176561e+01 -1.57290875e+01\n",
      " -1.17645999e+01 -7.99745824e+00 -4.90830140e+00 -2.60832019e+00\n",
      " -9.93888809e-01  1.01168618e-01  8.29575105e-01  1.30865568e+00\n",
      "  1.62162443e+00  1.82529077e+00  1.95774985e+00  2.04435374e+00\n",
      "  2.10192823e+00  2.14162735e+00  2.17082939e+00  2.19438753e+00\n",
      "  2.21545467e+00  2.23602922e+00  2.25731859e+00  2.27998369e+00\n",
      "  2.30430289e+00  2.33029156e+00  2.35777145e+00  2.38643892e+00\n",
      "  2.41586180e+00  2.44569997e+00  2.47524171e+00  2.50416352e+00\n",
      "  2.53210773e+00  2.55836694e+00  2.58233708e+00  2.60326690e+00\n",
      "  2.62161770e+00  2.63836234e+00  2.64765529e+00  2.65767240e+00\n",
      "  2.66196510e+00  2.66008674e+00  2.65528948e+00  2.64847732e+00\n",
      "  2.63547699e+00  2.61231565e+00  2.59759018e+00  2.57016900e+00\n",
      "  2.53759846e+00  2.50559974e+00  2.47435066e+00  2.42978837e+00\n",
      "  2.39186409e+00  2.34086418e+00  2.29275647e+00  2.24660312e+00\n",
      "  2.19840428e+00  2.14037354e+00  2.08370829e+00  2.02789560e+00\n",
      "  1.97374014e+00  1.91788540e+00  1.86038671e+00  1.80042334e+00\n",
      "  1.74270289e+00  1.67842031e+00  1.62332468e+00  1.56406116e+00\n",
      "  1.50397059e+00  1.44161186e+00  1.38559431e+00  1.32829537e+00\n",
      "  1.26884484e+00  1.21122883e+00  1.15425830e+00  1.09902937e+00\n",
      "  1.04223348e+00  9.89374482e-01  9.32881859e-01  8.79593420e-01\n",
      "  8.25997275e-01  7.75530714e-01  7.21321322e-01  6.70527309e-01\n",
      "  6.18996621e-01  5.68018080e-01  5.19035431e-01  4.68348503e-01\n",
      "  4.17888523e-01  3.68538388e-01  3.19098756e-01  2.68505041e-01\n",
      "  2.19191220e-01  1.69512756e-01  1.19261054e-01  6.85690426e-02\n",
      "  1.75379548e-02 -3.40293808e-02 -8.63746281e-02 -1.39399933e-01\n",
      " -1.93581316e-01 -2.49008197e-01 -3.06004951e-01 -3.64709118e-01\n",
      " -4.24638843e-01 -4.87421506e-01 -5.51998322e-01 -6.19592929e-01\n",
      " -6.90398878e-01 -7.64687587e-01 -8.42984921e-01 -9.25928016e-01\n",
      " -1.01416910e+00 -1.10831836e+00 -1.20939846e+00 -1.31833274e+00\n",
      " -1.43634806e+00 -1.56484640e+00 -1.70548775e+00 -1.86025381e+00\n",
      " -2.03151465e+00 -2.22211628e+00 -2.43549373e+00 -2.67580871e+00\n",
      " -2.94812107e+00 -3.25859953e+00]\n"
     ]
    },
    {
     "name": "stderr",
     "output_type": "stream",
     "text": [
      "\n"
     ]
    }
   ],
   "source": [
    "# here we specify the total time\n",
    "totaltime = 150\n",
    "\n",
    "# First, we initialize the Q and U arrays\n",
    "Q_array=np.zeros(totaltime)\n",
    "U_array=np.zeros(totaltime)\n",
    "\n",
    "EVPA = np.arctan(-EVPA_x/EVPA_y) # we can do this calculation outside of the for loop because EVPA only depends on local B field\n",
    "# and the geometry as calculated by lensingbands and raytracing\n",
    "\n",
    "j = complex(0,1) # j stands for the imaginary number \"i\"\n",
    "\n",
    "\n",
    "#for dt in range(totaltime):\n",
    "for dt in tqdm(range(totaltime)):\n",
    "\n",
    "    # retrive I0 from intensity_transform function\n",
    "    I0 = intensity_transform(supergrid0, mask0, sign0, rs0, phi0, t0, dt)\n",
    "    I0 = (I0).reshape(N0,N0).T\n",
    "\n",
    "    # calculate total intensity\n",
    "    Itotal = I0\n",
    "    \n",
    "    # Calculate the observed linear polarization P_0 = m * I_0 * exp(2*i*EVPA), where m is the fractional degree of polarization.\n",
    "    # Here, we take m = 1.\n",
    "    P_0 = Itotal * np.exp(2*j*EVPA)\n",
    "    \n",
    "    # now we extract Q, which is the real part of P_0\n",
    "    P_0_real = P_0.real\n",
    "    \n",
    "    # then we extract U, which is the imaginary part of P_0\n",
    "    P_0_imaginary = P_0.imag\n",
    "    \n",
    "    # we calculate the Q flux at this instant in time\n",
    "    Q_flux = np.nansum(P_0_real)\n",
    "    \n",
    "    # we calculate the U flux at this instant in time\n",
    "    U_flux = np.nansum(P_0_imaginary)\n",
    "    \n",
    "    # we add Q_flux and U_flux to their respective arrays\n",
    "    Q_array[dt]=Q_flux\n",
    "    U_array[dt]=U_flux\n",
    "    \n",
    "\n",
    "print(Q_array)\n",
    "print(U_array)\n",
    "    "
   ]
  },
  {
   "cell_type": "code",
   "execution_count": 10,
   "id": "5880bda6",
   "metadata": {},
   "outputs": [
    {
     "data": {
      "image/png": "[encoded data removed]",
      "text/plain": [
       "<Figure size 500x500 with 1 Axes>"
      ]
     },
     "metadata": {},
     "output_type": "display_data"
    }
   ],
   "source": [
    "# now we want to plot them on a graph. \n",
    "\n",
    "fig, ax = plt.subplots(figsize=[5,5])\n",
    "\n",
    "Q=np.array(Q_array)\n",
    "U=np.array(U_array)\n",
    "\n",
    "plt.scatter(Q, U)\n",
    "plt.scatter(0, 0, color='red', s=100, marker = \"+\")\n",
    "plt.xlabel(\"Q\")\n",
    "plt.ylabel(\"U\")\n",
    "#plt.xlim(-5,5)\n",
    "#plt.ylim(-5, 5)\n",
    "#plt.text(-4, 16, fr'$\\theta$ = {i_case}, $r_s$ = {r_initial}', fontsize=12)\n",
    "plt.savefig(f\"hotspot_polarization/({b_r}_{b_phi}_{b_theta})_theta_{i_case}_rs_{r_initial}_unswapped1\", dpi = 100)\n",
    "plt.show()\n",
    "\n"
   ]
  },
  {
   "cell_type": "markdown",
   "id": "df99c2b4-2d63-4f00-bfa3-52cd79cf6454",
   "metadata": {},
   "source": [
    "TODO:\n",
    "\n",
    "- Systematically check the convention of the angles\n",
    "- Trace back Zack's code and compare to yours. Every computation! We need to be sure of the steps of those tetrads and transformation"
   ]
  },
  {
   "cell_type": "markdown",
   "id": "87fd8fa9-bec6-4094-98d8-1b7d512eb855",
   "metadata": {},
   "source": [
    "Do we need this extra line of code?: coordtransform = np.matmul(np.matmul(minkmetric, getlorentzboost(-boost, chi)), emutetrad) essentially multiplying by\n",
    "another Minkowski Metric. "
   ]
  },
  {
   "cell_type": "markdown",
   "id": "68a2f31a-5523-42ff-accf-a4cdd1a1fee2",
   "metadata": {},
   "source": [
    "angle conventions\n",
    "did they use equation 46?\n"
   ]
  }
 ],
 "metadata": {
  "kernelspec": {
   "display_name": "Python 3 (ipykernel)",
   "language": "python",
   "name": "python3"
  },
  "language_info": {
   "codemirror_mode": {
    "name": "ipython",
    "version": 3
   },
   "file_extension": ".py",
   "mimetype": "text/x-python",
   "name": "python",
   "nbconvert_exporter": "python",
   "pygments_lexer": "ipython3",
   "version": "3.10.9"
  }
 },
 "nbformat": 4,
 "nbformat_minor": 5
}
